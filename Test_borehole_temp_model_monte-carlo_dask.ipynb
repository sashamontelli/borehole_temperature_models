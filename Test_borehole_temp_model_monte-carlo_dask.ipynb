{
 "cells": [
  {
   "cell_type": "markdown",
   "metadata": {},
   "source": [
    "## 1. Setting up the environment"
   ]
  },
  {
   "cell_type": "markdown",
   "metadata": {},
   "source": [
    "### Importing the necessary packages"
   ]
  },
  {
   "cell_type": "code",
   "execution_count": 1,
   "metadata": {},
   "outputs": [],
   "source": [
    "import numpy as np\n",
    "from matplotlib import pyplot as plt\n",
    "from netCDF4 import Dataset\n",
    "import pandas as pd\n",
    "import time\n",
    "import math\n",
    "import random\n",
    "import time\n",
    "import dask\n",
    "import dask.bag as db"
   ]
  },
  {
   "cell_type": "markdown",
   "metadata": {},
   "source": [
    "### Creating Dask Cluster for Parallel Processing\n",
    "taken from https://github.com/pangeo-data/pangeo-geospatial-examples/blob/master/analyze_REMA.ipynb"
   ]
  },
  {
   "cell_type": "code",
   "execution_count": 2,
   "metadata": {},
   "outputs": [
    {
     "name": "stderr",
     "output_type": "stream",
     "text": [
      "distributed.scheduler - INFO - Clear task state\n",
      "distributed.scheduler - INFO -   Scheduler at:   tcp://10.32.5.101:40283\n",
      "distributed.scheduler - INFO -   dashboard at:                     :8787\n",
      "distributed.scheduler - INFO - Receive client connection: Client-74c69b1c-a154-11ea-81ef-2646e2b16b71\n",
      "distributed.core - INFO - Starting established connection\n"
     ]
    },
    {
     "data": {
      "application/vnd.jupyter.widget-view+json": {
       "model_id": "eaae27a71bb1405bafd3b90730e68d94",
       "version_major": 2,
       "version_minor": 0
      },
      "text/plain": [
       "VBox(children=(HTML(value='<h2>KubeCluster</h2>'), HBox(children=(HTML(value='\\n<div>\\n  <style scoped>\\n    .…"
      ]
     },
     "metadata": {},
     "output_type": "display_data"
    }
   ],
   "source": [
    "from dask.distributed import Client\n",
    "from dask_kubernetes import KubeCluster\n",
    "\n",
    "cluster = KubeCluster(n_workers=20)\n",
    "client = Client(cluster)\n",
    "cluster"
   ]
  },
  {
   "cell_type": "markdown",
   "metadata": {},
   "source": [
    "### Setting up the plotting style"
   ]
  },
  {
   "cell_type": "code",
   "execution_count": 3,
   "metadata": {},
   "outputs": [],
   "source": [
    "plt.rcParams.update({\n",
    "    'font.sans-serif': 'Arial',\n",
    "    'font.family': 'Arial',\n",
    "    'font.size': 7,\n",
    "    'grid.linewidth': 0.1,\n",
    "    'axes.titlesize': 8,\n",
    "    'axes.titleweight' : 'bold',\n",
    "    'axes.labelsize': 8,\n",
    "    'axes.labelweight': 'bold'\n",
    "})"
   ]
  },
  {
   "cell_type": "markdown",
   "metadata": {},
   "source": [
    "## 2.Preparing for temperature profile calculations"
   ]
  },
  {
   "cell_type": "markdown",
   "metadata": {},
   "source": [
    "#### Defining constants"
   ]
  },
  {
   "cell_type": "code",
   "execution_count": 4,
   "metadata": {},
   "outputs": [],
   "source": [
    "c_i = 2e3 # Heat capacity of ice\n",
    "c_r = 7.9e2 # Heat capacity of basal rock\n",
    "k_i = 2.3 # Thermal conductivity of ice\n",
    "k_r = 2.8 # Thermal conductivity of basal rock\n",
    "rho_i = 918.9 # Density of ice\n",
    "rho_r = 2750 # Density of basal rock\n",
    "alpha_i = k_i / rho_i / c_i # Alpha\n",
    "alpha_r = k_r / rho_r / c_r # Alpha for basal rock\n",
    "n = 3 # Glen's flow law exponent\n",
    "g = 9.81 # Gravitational acceleration\n",
    "A = 2e-16 # Rheological constant determining soft ice as a function of temperature\n",
    "G = 668e-4 # Geothermal heat flux"
   ]
  },
  {
   "cell_type": "markdown",
   "metadata": {},
   "source": [
    "#### Defining spatial and temporal domains / resolution"
   ]
  },
  {
   "cell_type": "code",
   "execution_count": 5,
   "metadata": {},
   "outputs": [],
   "source": [
    "Hi = 1860 # Ice thickness (average from PISM model outputs)\n",
    "dz = 10  # Vertical resolution / calculation step\n",
    "Hr = 500  # Rock thickness\n",
    "z = np.linspace(-Hr, Hi, (Hi+Hr)/dz + 1)   # Space calculation domain for ice and rock\n",
    "zi = np.linspace(0, Hi, Hi/dz + 1)  # Space calculation domain for ice\n",
    "zr = np.linspace(-Hr, 0, Hr/dz + 1) #  Space calculation domain for rock\n",
    "l = len(zr)  # Index for ice-bed interface to be used in the loop calculations\n",
    "Lz = len(z)  # Number of elements in space domain\n",
    "Lzi = len(zi) #  Number of elements in space domain for ice\n",
    "Lzr = len(zr) #  Number of elements in space domain for rock\n",
    "\n",
    "dt_years = 1  # Temporal resolution / calculation time step in years\n",
    "dt = (dt_years * (365*24*60*60)) #  Temporal resolution / calculation time step in seconds\n",
    "t_steady_years_total = 5e5 # Time in years typically more than enough to achieve steady state\n",
    "t_steady = np.linspace(0, t_steady_years_total * (365*24*60*60), dt)  # Total steady statre simulation time vector\n",
    "Lt_steady = len(t_steady)\n",
    "\n",
    "a_yr = 0.2338 # Defining accumulation in m/yr\n",
    "a = a_yr / (365*24*60*60) # Defining accumulation in m/s\n",
    "\n",
    "## Reading random temperature curves created based on prior distributions based on PISM\n",
    "temphistories_resampled = pd.read_csv('temphistories_resampled_20.csv', header=None)\n",
    "\n",
    "Tsteady = np.zeros((Lz,Lt_steady)) # Creating matrix to record temperature vectors over time for comparison\n",
    "Tfinal_varT = np.zeros((Lz,len(temphistories_resampled))) # Creating an empty matrix to record the result"
   ]
  },
  {
   "cell_type": "markdown",
   "metadata": {},
   "source": [
    "#### Checking the random temperature curves to be used in Monte-Carlo simulation"
   ]
  },
  {
   "cell_type": "code",
   "execution_count": 6,
   "metadata": {},
   "outputs": [
    {
     "data": {
      "text/html": [
       "<div>\n",
       "<style scoped>\n",
       "    .dataframe tbody tr th:only-of-type {\n",
       "        vertical-align: middle;\n",
       "    }\n",
       "\n",
       "    .dataframe tbody tr th {\n",
       "        vertical-align: top;\n",
       "    }\n",
       "\n",
       "    .dataframe thead th {\n",
       "        text-align: right;\n",
       "    }\n",
       "</style>\n",
       "<table border=\"1\" class=\"dataframe\">\n",
       "  <thead>\n",
       "    <tr style=\"text-align: right;\">\n",
       "      <th></th>\n",
       "      <th>0</th>\n",
       "      <th>1</th>\n",
       "      <th>2</th>\n",
       "      <th>3</th>\n",
       "      <th>4</th>\n",
       "      <th>5</th>\n",
       "      <th>6</th>\n",
       "      <th>7</th>\n",
       "      <th>8</th>\n",
       "      <th>9</th>\n",
       "      <th>...</th>\n",
       "      <th>19991</th>\n",
       "      <th>19992</th>\n",
       "      <th>19993</th>\n",
       "      <th>19994</th>\n",
       "      <th>19995</th>\n",
       "      <th>19996</th>\n",
       "      <th>19997</th>\n",
       "      <th>19998</th>\n",
       "      <th>19999</th>\n",
       "      <th>20000</th>\n",
       "    </tr>\n",
       "  </thead>\n",
       "  <tbody>\n",
       "    <tr>\n",
       "      <th>0</th>\n",
       "      <td>-18.310837</td>\n",
       "      <td>-18.311447</td>\n",
       "      <td>-18.312057</td>\n",
       "      <td>-18.312668</td>\n",
       "      <td>-18.313278</td>\n",
       "      <td>-18.313889</td>\n",
       "      <td>-18.314499</td>\n",
       "      <td>-18.315109</td>\n",
       "      <td>-18.315720</td>\n",
       "      <td>-18.316315</td>\n",
       "      <td>...</td>\n",
       "      <td>-19.871735</td>\n",
       "      <td>-19.863083</td>\n",
       "      <td>-19.854431</td>\n",
       "      <td>-19.845779</td>\n",
       "      <td>-19.837128</td>\n",
       "      <td>-19.828461</td>\n",
       "      <td>-19.819794</td>\n",
       "      <td>-19.811127</td>\n",
       "      <td>-19.802460</td>\n",
       "      <td>-19.793777</td>\n",
       "    </tr>\n",
       "    <tr>\n",
       "      <th>1</th>\n",
       "      <td>-23.191925</td>\n",
       "      <td>-23.184464</td>\n",
       "      <td>-23.177002</td>\n",
       "      <td>-23.169540</td>\n",
       "      <td>-23.162079</td>\n",
       "      <td>-23.154633</td>\n",
       "      <td>-23.147171</td>\n",
       "      <td>-23.139725</td>\n",
       "      <td>-23.132278</td>\n",
       "      <td>-23.124832</td>\n",
       "      <td>...</td>\n",
       "      <td>-31.541107</td>\n",
       "      <td>-31.539902</td>\n",
       "      <td>-31.538681</td>\n",
       "      <td>-31.537460</td>\n",
       "      <td>-31.536240</td>\n",
       "      <td>-31.535019</td>\n",
       "      <td>-31.533798</td>\n",
       "      <td>-31.532578</td>\n",
       "      <td>-31.531357</td>\n",
       "      <td>-31.530136</td>\n",
       "    </tr>\n",
       "    <tr>\n",
       "      <th>2</th>\n",
       "      <td>-14.509460</td>\n",
       "      <td>-14.516479</td>\n",
       "      <td>-14.523499</td>\n",
       "      <td>-14.530518</td>\n",
       "      <td>-14.537537</td>\n",
       "      <td>-14.544525</td>\n",
       "      <td>-14.551544</td>\n",
       "      <td>-14.558563</td>\n",
       "      <td>-14.565552</td>\n",
       "      <td>-14.572571</td>\n",
       "      <td>...</td>\n",
       "      <td>-18.730591</td>\n",
       "      <td>-18.718842</td>\n",
       "      <td>-18.707092</td>\n",
       "      <td>-18.695343</td>\n",
       "      <td>-18.683594</td>\n",
       "      <td>-18.671844</td>\n",
       "      <td>-18.660080</td>\n",
       "      <td>-18.648315</td>\n",
       "      <td>-18.636551</td>\n",
       "      <td>-18.624786</td>\n",
       "    </tr>\n",
       "    <tr>\n",
       "      <th>3</th>\n",
       "      <td>-14.509460</td>\n",
       "      <td>-14.519684</td>\n",
       "      <td>-14.529877</td>\n",
       "      <td>-14.540100</td>\n",
       "      <td>-14.550293</td>\n",
       "      <td>-14.560486</td>\n",
       "      <td>-14.570709</td>\n",
       "      <td>-14.580902</td>\n",
       "      <td>-14.591095</td>\n",
       "      <td>-14.601257</td>\n",
       "      <td>...</td>\n",
       "      <td>-40.543915</td>\n",
       "      <td>-40.553726</td>\n",
       "      <td>-40.563522</td>\n",
       "      <td>-40.573318</td>\n",
       "      <td>-40.583130</td>\n",
       "      <td>-40.592926</td>\n",
       "      <td>-40.602737</td>\n",
       "      <td>-40.612549</td>\n",
       "      <td>-40.622360</td>\n",
       "      <td>-40.632172</td>\n",
       "    </tr>\n",
       "    <tr>\n",
       "      <th>4</th>\n",
       "      <td>-23.191925</td>\n",
       "      <td>-23.193344</td>\n",
       "      <td>-23.194778</td>\n",
       "      <td>-23.196198</td>\n",
       "      <td>-23.197617</td>\n",
       "      <td>-23.199036</td>\n",
       "      <td>-23.200455</td>\n",
       "      <td>-23.201874</td>\n",
       "      <td>-23.203278</td>\n",
       "      <td>-23.204697</td>\n",
       "      <td>...</td>\n",
       "      <td>-18.284012</td>\n",
       "      <td>-18.275665</td>\n",
       "      <td>-18.267319</td>\n",
       "      <td>-18.258972</td>\n",
       "      <td>-18.250610</td>\n",
       "      <td>-18.242264</td>\n",
       "      <td>-18.233902</td>\n",
       "      <td>-18.225540</td>\n",
       "      <td>-18.217178</td>\n",
       "      <td>-18.208801</td>\n",
       "    </tr>\n",
       "    <tr>\n",
       "      <th>5</th>\n",
       "      <td>-30.597382</td>\n",
       "      <td>-30.604980</td>\n",
       "      <td>-30.612564</td>\n",
       "      <td>-30.620148</td>\n",
       "      <td>-30.627731</td>\n",
       "      <td>-30.635300</td>\n",
       "      <td>-30.642883</td>\n",
       "      <td>-30.650452</td>\n",
       "      <td>-30.658005</td>\n",
       "      <td>-30.665573</td>\n",
       "      <td>...</td>\n",
       "      <td>-18.317215</td>\n",
       "      <td>-18.305191</td>\n",
       "      <td>-18.293167</td>\n",
       "      <td>-18.281128</td>\n",
       "      <td>-18.269089</td>\n",
       "      <td>-18.257034</td>\n",
       "      <td>-18.244995</td>\n",
       "      <td>-18.232925</td>\n",
       "      <td>-18.220871</td>\n",
       "      <td>-18.208801</td>\n",
       "    </tr>\n",
       "    <tr>\n",
       "      <th>6</th>\n",
       "      <td>-36.924759</td>\n",
       "      <td>-36.921082</td>\n",
       "      <td>-36.917419</td>\n",
       "      <td>-36.913742</td>\n",
       "      <td>-36.910065</td>\n",
       "      <td>-36.906387</td>\n",
       "      <td>-36.902710</td>\n",
       "      <td>-36.899048</td>\n",
       "      <td>-36.895370</td>\n",
       "      <td>-36.891693</td>\n",
       "      <td>...</td>\n",
       "      <td>-40.591019</td>\n",
       "      <td>-40.595596</td>\n",
       "      <td>-40.600159</td>\n",
       "      <td>-40.604736</td>\n",
       "      <td>-40.609314</td>\n",
       "      <td>-40.613892</td>\n",
       "      <td>-40.618454</td>\n",
       "      <td>-40.623032</td>\n",
       "      <td>-40.627594</td>\n",
       "      <td>-40.632172</td>\n",
       "    </tr>\n",
       "    <tr>\n",
       "      <th>7</th>\n",
       "      <td>-18.176010</td>\n",
       "      <td>-18.186829</td>\n",
       "      <td>-18.197662</td>\n",
       "      <td>-18.208481</td>\n",
       "      <td>-18.219284</td>\n",
       "      <td>-18.230103</td>\n",
       "      <td>-18.240906</td>\n",
       "      <td>-18.251709</td>\n",
       "      <td>-18.262497</td>\n",
       "      <td>-18.273300</td>\n",
       "      <td>...</td>\n",
       "      <td>-19.855225</td>\n",
       "      <td>-19.848419</td>\n",
       "      <td>-19.841599</td>\n",
       "      <td>-19.834778</td>\n",
       "      <td>-19.827942</td>\n",
       "      <td>-19.821121</td>\n",
       "      <td>-19.814285</td>\n",
       "      <td>-19.807449</td>\n",
       "      <td>-19.800613</td>\n",
       "      <td>-19.793777</td>\n",
       "    </tr>\n",
       "    <tr>\n",
       "      <th>8</th>\n",
       "      <td>-36.924759</td>\n",
       "      <td>-36.915039</td>\n",
       "      <td>-36.905334</td>\n",
       "      <td>-36.895615</td>\n",
       "      <td>-36.885910</td>\n",
       "      <td>-36.876205</td>\n",
       "      <td>-36.866501</td>\n",
       "      <td>-36.856796</td>\n",
       "      <td>-36.847092</td>\n",
       "      <td>-36.837402</td>\n",
       "      <td>...</td>\n",
       "      <td>-18.676178</td>\n",
       "      <td>-18.670471</td>\n",
       "      <td>-18.664764</td>\n",
       "      <td>-18.659058</td>\n",
       "      <td>-18.653351</td>\n",
       "      <td>-18.647644</td>\n",
       "      <td>-18.641937</td>\n",
       "      <td>-18.636215</td>\n",
       "      <td>-18.630508</td>\n",
       "      <td>-18.624786</td>\n",
       "    </tr>\n",
       "    <tr>\n",
       "      <th>9</th>\n",
       "      <td>-18.176010</td>\n",
       "      <td>-18.177536</td>\n",
       "      <td>-18.179062</td>\n",
       "      <td>-18.180588</td>\n",
       "      <td>-18.182098</td>\n",
       "      <td>-18.183624</td>\n",
       "      <td>-18.185150</td>\n",
       "      <td>-18.186661</td>\n",
       "      <td>-18.188171</td>\n",
       "      <td>-18.189682</td>\n",
       "      <td>...</td>\n",
       "      <td>-18.791550</td>\n",
       "      <td>-18.773041</td>\n",
       "      <td>-18.754532</td>\n",
       "      <td>-18.736023</td>\n",
       "      <td>-18.717499</td>\n",
       "      <td>-18.698975</td>\n",
       "      <td>-18.680435</td>\n",
       "      <td>-18.661896</td>\n",
       "      <td>-18.643341</td>\n",
       "      <td>-18.624786</td>\n",
       "    </tr>\n",
       "    <tr>\n",
       "      <th>10</th>\n",
       "      <td>-36.924759</td>\n",
       "      <td>-36.916000</td>\n",
       "      <td>-36.907227</td>\n",
       "      <td>-36.898468</td>\n",
       "      <td>-36.889709</td>\n",
       "      <td>-36.880951</td>\n",
       "      <td>-36.872192</td>\n",
       "      <td>-36.863449</td>\n",
       "      <td>-36.854691</td>\n",
       "      <td>-36.845947</td>\n",
       "      <td>...</td>\n",
       "      <td>-16.890350</td>\n",
       "      <td>-16.887817</td>\n",
       "      <td>-16.885284</td>\n",
       "      <td>-16.882751</td>\n",
       "      <td>-16.880219</td>\n",
       "      <td>-16.877686</td>\n",
       "      <td>-16.875153</td>\n",
       "      <td>-16.872620</td>\n",
       "      <td>-16.870087</td>\n",
       "      <td>-16.867554</td>\n",
       "    </tr>\n",
       "    <tr>\n",
       "      <th>11</th>\n",
       "      <td>-23.191925</td>\n",
       "      <td>-23.188171</td>\n",
       "      <td>-23.184418</td>\n",
       "      <td>-23.180679</td>\n",
       "      <td>-23.176926</td>\n",
       "      <td>-23.173172</td>\n",
       "      <td>-23.169434</td>\n",
       "      <td>-23.165680</td>\n",
       "      <td>-23.161942</td>\n",
       "      <td>-23.158188</td>\n",
       "      <td>...</td>\n",
       "      <td>-40.608749</td>\n",
       "      <td>-40.611359</td>\n",
       "      <td>-40.613953</td>\n",
       "      <td>-40.616562</td>\n",
       "      <td>-40.619156</td>\n",
       "      <td>-40.621765</td>\n",
       "      <td>-40.624359</td>\n",
       "      <td>-40.626968</td>\n",
       "      <td>-40.629578</td>\n",
       "      <td>-40.632172</td>\n",
       "    </tr>\n",
       "    <tr>\n",
       "      <th>12</th>\n",
       "      <td>-30.597382</td>\n",
       "      <td>-30.592133</td>\n",
       "      <td>-30.586884</td>\n",
       "      <td>-30.581650</td>\n",
       "      <td>-30.576401</td>\n",
       "      <td>-30.571152</td>\n",
       "      <td>-30.565918</td>\n",
       "      <td>-30.560669</td>\n",
       "      <td>-30.555435</td>\n",
       "      <td>-30.550186</td>\n",
       "      <td>...</td>\n",
       "      <td>-40.640930</td>\n",
       "      <td>-40.639969</td>\n",
       "      <td>-40.638992</td>\n",
       "      <td>-40.638031</td>\n",
       "      <td>-40.637054</td>\n",
       "      <td>-40.636078</td>\n",
       "      <td>-40.635101</td>\n",
       "      <td>-40.634125</td>\n",
       "      <td>-40.633148</td>\n",
       "      <td>-40.632172</td>\n",
       "    </tr>\n",
       "    <tr>\n",
       "      <th>13</th>\n",
       "      <td>-18.310837</td>\n",
       "      <td>-18.316177</td>\n",
       "      <td>-18.321533</td>\n",
       "      <td>-18.326874</td>\n",
       "      <td>-18.332214</td>\n",
       "      <td>-18.337555</td>\n",
       "      <td>-18.342896</td>\n",
       "      <td>-18.348236</td>\n",
       "      <td>-18.353577</td>\n",
       "      <td>-18.358917</td>\n",
       "      <td>...</td>\n",
       "      <td>-31.590881</td>\n",
       "      <td>-31.584152</td>\n",
       "      <td>-31.577408</td>\n",
       "      <td>-31.570663</td>\n",
       "      <td>-31.563904</td>\n",
       "      <td>-31.557159</td>\n",
       "      <td>-31.550400</td>\n",
       "      <td>-31.543655</td>\n",
       "      <td>-31.536896</td>\n",
       "      <td>-31.530136</td>\n",
       "    </tr>\n",
       "    <tr>\n",
       "      <th>14</th>\n",
       "      <td>-23.191925</td>\n",
       "      <td>-23.188400</td>\n",
       "      <td>-23.184875</td>\n",
       "      <td>-23.181351</td>\n",
       "      <td>-23.177811</td>\n",
       "      <td>-23.174286</td>\n",
       "      <td>-23.170761</td>\n",
       "      <td>-23.167252</td>\n",
       "      <td>-23.163727</td>\n",
       "      <td>-23.160202</td>\n",
       "      <td>...</td>\n",
       "      <td>-19.768967</td>\n",
       "      <td>-19.771713</td>\n",
       "      <td>-19.774475</td>\n",
       "      <td>-19.777237</td>\n",
       "      <td>-19.779984</td>\n",
       "      <td>-19.782745</td>\n",
       "      <td>-19.785507</td>\n",
       "      <td>-19.788254</td>\n",
       "      <td>-19.791016</td>\n",
       "      <td>-19.793777</td>\n",
       "    </tr>\n",
       "    <tr>\n",
       "      <th>15</th>\n",
       "      <td>-36.924759</td>\n",
       "      <td>-36.904114</td>\n",
       "      <td>-36.883469</td>\n",
       "      <td>-36.862839</td>\n",
       "      <td>-36.842224</td>\n",
       "      <td>-36.821609</td>\n",
       "      <td>-36.800995</td>\n",
       "      <td>-36.780411</td>\n",
       "      <td>-36.759811</td>\n",
       "      <td>-36.739227</td>\n",
       "      <td>...</td>\n",
       "      <td>-16.800171</td>\n",
       "      <td>-16.807648</td>\n",
       "      <td>-16.815094</td>\n",
       "      <td>-16.822601</td>\n",
       "      <td>-16.830078</td>\n",
       "      <td>-16.837555</td>\n",
       "      <td>-16.845062</td>\n",
       "      <td>-16.852539</td>\n",
       "      <td>-16.860046</td>\n",
       "      <td>-16.867554</td>\n",
       "    </tr>\n",
       "    <tr>\n",
       "      <th>16</th>\n",
       "      <td>-30.597382</td>\n",
       "      <td>-30.593719</td>\n",
       "      <td>-30.590057</td>\n",
       "      <td>-30.586395</td>\n",
       "      <td>-30.582733</td>\n",
       "      <td>-30.579071</td>\n",
       "      <td>-30.575394</td>\n",
       "      <td>-30.571732</td>\n",
       "      <td>-30.568069</td>\n",
       "      <td>-30.564407</td>\n",
       "      <td>...</td>\n",
       "      <td>-18.784790</td>\n",
       "      <td>-18.767029</td>\n",
       "      <td>-18.749283</td>\n",
       "      <td>-18.731506</td>\n",
       "      <td>-18.713745</td>\n",
       "      <td>-18.695953</td>\n",
       "      <td>-18.678177</td>\n",
       "      <td>-18.660385</td>\n",
       "      <td>-18.642593</td>\n",
       "      <td>-18.624786</td>\n",
       "    </tr>\n",
       "    <tr>\n",
       "      <th>17</th>\n",
       "      <td>-30.597382</td>\n",
       "      <td>-30.589600</td>\n",
       "      <td>-30.581818</td>\n",
       "      <td>-30.574036</td>\n",
       "      <td>-30.566269</td>\n",
       "      <td>-30.558487</td>\n",
       "      <td>-30.550720</td>\n",
       "      <td>-30.542953</td>\n",
       "      <td>-30.535187</td>\n",
       "      <td>-30.527420</td>\n",
       "      <td>...</td>\n",
       "      <td>-18.268707</td>\n",
       "      <td>-18.262054</td>\n",
       "      <td>-18.255417</td>\n",
       "      <td>-18.248749</td>\n",
       "      <td>-18.242096</td>\n",
       "      <td>-18.235443</td>\n",
       "      <td>-18.228790</td>\n",
       "      <td>-18.222122</td>\n",
       "      <td>-18.215469</td>\n",
       "      <td>-18.208801</td>\n",
       "    </tr>\n",
       "    <tr>\n",
       "      <th>18</th>\n",
       "      <td>-18.310837</td>\n",
       "      <td>-18.314514</td>\n",
       "      <td>-18.318192</td>\n",
       "      <td>-18.321854</td>\n",
       "      <td>-18.325531</td>\n",
       "      <td>-18.329193</td>\n",
       "      <td>-18.332870</td>\n",
       "      <td>-18.336533</td>\n",
       "      <td>-18.340195</td>\n",
       "      <td>-18.343857</td>\n",
       "      <td>...</td>\n",
       "      <td>-40.713760</td>\n",
       "      <td>-40.704712</td>\n",
       "      <td>-40.695663</td>\n",
       "      <td>-40.686600</td>\n",
       "      <td>-40.677536</td>\n",
       "      <td>-40.668472</td>\n",
       "      <td>-40.659409</td>\n",
       "      <td>-40.650330</td>\n",
       "      <td>-40.641251</td>\n",
       "      <td>-40.632172</td>\n",
       "    </tr>\n",
       "    <tr>\n",
       "      <th>19</th>\n",
       "      <td>-14.509460</td>\n",
       "      <td>-14.505554</td>\n",
       "      <td>-14.501648</td>\n",
       "      <td>-14.497742</td>\n",
       "      <td>-14.493835</td>\n",
       "      <td>-14.489960</td>\n",
       "      <td>-14.486053</td>\n",
       "      <td>-14.482147</td>\n",
       "      <td>-14.478271</td>\n",
       "      <td>-14.474396</td>\n",
       "      <td>...</td>\n",
       "      <td>-16.882385</td>\n",
       "      <td>-16.880737</td>\n",
       "      <td>-16.879089</td>\n",
       "      <td>-16.877441</td>\n",
       "      <td>-16.875793</td>\n",
       "      <td>-16.874146</td>\n",
       "      <td>-16.872498</td>\n",
       "      <td>-16.870850</td>\n",
       "      <td>-16.869202</td>\n",
       "      <td>-16.867554</td>\n",
       "    </tr>\n",
       "  </tbody>\n",
       "</table>\n",
       "<p>20 rows × 20001 columns</p>\n",
       "</div>"
      ],
      "text/plain": [
       "        0          1          2          3          4          5      \\\n",
       "0  -18.310837 -18.311447 -18.312057 -18.312668 -18.313278 -18.313889   \n",
       "1  -23.191925 -23.184464 -23.177002 -23.169540 -23.162079 -23.154633   \n",
       "2  -14.509460 -14.516479 -14.523499 -14.530518 -14.537537 -14.544525   \n",
       "3  -14.509460 -14.519684 -14.529877 -14.540100 -14.550293 -14.560486   \n",
       "4  -23.191925 -23.193344 -23.194778 -23.196198 -23.197617 -23.199036   \n",
       "5  -30.597382 -30.604980 -30.612564 -30.620148 -30.627731 -30.635300   \n",
       "6  -36.924759 -36.921082 -36.917419 -36.913742 -36.910065 -36.906387   \n",
       "7  -18.176010 -18.186829 -18.197662 -18.208481 -18.219284 -18.230103   \n",
       "8  -36.924759 -36.915039 -36.905334 -36.895615 -36.885910 -36.876205   \n",
       "9  -18.176010 -18.177536 -18.179062 -18.180588 -18.182098 -18.183624   \n",
       "10 -36.924759 -36.916000 -36.907227 -36.898468 -36.889709 -36.880951   \n",
       "11 -23.191925 -23.188171 -23.184418 -23.180679 -23.176926 -23.173172   \n",
       "12 -30.597382 -30.592133 -30.586884 -30.581650 -30.576401 -30.571152   \n",
       "13 -18.310837 -18.316177 -18.321533 -18.326874 -18.332214 -18.337555   \n",
       "14 -23.191925 -23.188400 -23.184875 -23.181351 -23.177811 -23.174286   \n",
       "15 -36.924759 -36.904114 -36.883469 -36.862839 -36.842224 -36.821609   \n",
       "16 -30.597382 -30.593719 -30.590057 -30.586395 -30.582733 -30.579071   \n",
       "17 -30.597382 -30.589600 -30.581818 -30.574036 -30.566269 -30.558487   \n",
       "18 -18.310837 -18.314514 -18.318192 -18.321854 -18.325531 -18.329193   \n",
       "19 -14.509460 -14.505554 -14.501648 -14.497742 -14.493835 -14.489960   \n",
       "\n",
       "        6          7          8          9      ...      19991      19992  \\\n",
       "0  -18.314499 -18.315109 -18.315720 -18.316315  ... -19.871735 -19.863083   \n",
       "1  -23.147171 -23.139725 -23.132278 -23.124832  ... -31.541107 -31.539902   \n",
       "2  -14.551544 -14.558563 -14.565552 -14.572571  ... -18.730591 -18.718842   \n",
       "3  -14.570709 -14.580902 -14.591095 -14.601257  ... -40.543915 -40.553726   \n",
       "4  -23.200455 -23.201874 -23.203278 -23.204697  ... -18.284012 -18.275665   \n",
       "5  -30.642883 -30.650452 -30.658005 -30.665573  ... -18.317215 -18.305191   \n",
       "6  -36.902710 -36.899048 -36.895370 -36.891693  ... -40.591019 -40.595596   \n",
       "7  -18.240906 -18.251709 -18.262497 -18.273300  ... -19.855225 -19.848419   \n",
       "8  -36.866501 -36.856796 -36.847092 -36.837402  ... -18.676178 -18.670471   \n",
       "9  -18.185150 -18.186661 -18.188171 -18.189682  ... -18.791550 -18.773041   \n",
       "10 -36.872192 -36.863449 -36.854691 -36.845947  ... -16.890350 -16.887817   \n",
       "11 -23.169434 -23.165680 -23.161942 -23.158188  ... -40.608749 -40.611359   \n",
       "12 -30.565918 -30.560669 -30.555435 -30.550186  ... -40.640930 -40.639969   \n",
       "13 -18.342896 -18.348236 -18.353577 -18.358917  ... -31.590881 -31.584152   \n",
       "14 -23.170761 -23.167252 -23.163727 -23.160202  ... -19.768967 -19.771713   \n",
       "15 -36.800995 -36.780411 -36.759811 -36.739227  ... -16.800171 -16.807648   \n",
       "16 -30.575394 -30.571732 -30.568069 -30.564407  ... -18.784790 -18.767029   \n",
       "17 -30.550720 -30.542953 -30.535187 -30.527420  ... -18.268707 -18.262054   \n",
       "18 -18.332870 -18.336533 -18.340195 -18.343857  ... -40.713760 -40.704712   \n",
       "19 -14.486053 -14.482147 -14.478271 -14.474396  ... -16.882385 -16.880737   \n",
       "\n",
       "        19993      19994      19995      19996      19997      19998  \\\n",
       "0  -19.854431 -19.845779 -19.837128 -19.828461 -19.819794 -19.811127   \n",
       "1  -31.538681 -31.537460 -31.536240 -31.535019 -31.533798 -31.532578   \n",
       "2  -18.707092 -18.695343 -18.683594 -18.671844 -18.660080 -18.648315   \n",
       "3  -40.563522 -40.573318 -40.583130 -40.592926 -40.602737 -40.612549   \n",
       "4  -18.267319 -18.258972 -18.250610 -18.242264 -18.233902 -18.225540   \n",
       "5  -18.293167 -18.281128 -18.269089 -18.257034 -18.244995 -18.232925   \n",
       "6  -40.600159 -40.604736 -40.609314 -40.613892 -40.618454 -40.623032   \n",
       "7  -19.841599 -19.834778 -19.827942 -19.821121 -19.814285 -19.807449   \n",
       "8  -18.664764 -18.659058 -18.653351 -18.647644 -18.641937 -18.636215   \n",
       "9  -18.754532 -18.736023 -18.717499 -18.698975 -18.680435 -18.661896   \n",
       "10 -16.885284 -16.882751 -16.880219 -16.877686 -16.875153 -16.872620   \n",
       "11 -40.613953 -40.616562 -40.619156 -40.621765 -40.624359 -40.626968   \n",
       "12 -40.638992 -40.638031 -40.637054 -40.636078 -40.635101 -40.634125   \n",
       "13 -31.577408 -31.570663 -31.563904 -31.557159 -31.550400 -31.543655   \n",
       "14 -19.774475 -19.777237 -19.779984 -19.782745 -19.785507 -19.788254   \n",
       "15 -16.815094 -16.822601 -16.830078 -16.837555 -16.845062 -16.852539   \n",
       "16 -18.749283 -18.731506 -18.713745 -18.695953 -18.678177 -18.660385   \n",
       "17 -18.255417 -18.248749 -18.242096 -18.235443 -18.228790 -18.222122   \n",
       "18 -40.695663 -40.686600 -40.677536 -40.668472 -40.659409 -40.650330   \n",
       "19 -16.879089 -16.877441 -16.875793 -16.874146 -16.872498 -16.870850   \n",
       "\n",
       "        19999      20000  \n",
       "0  -19.802460 -19.793777  \n",
       "1  -31.531357 -31.530136  \n",
       "2  -18.636551 -18.624786  \n",
       "3  -40.622360 -40.632172  \n",
       "4  -18.217178 -18.208801  \n",
       "5  -18.220871 -18.208801  \n",
       "6  -40.627594 -40.632172  \n",
       "7  -19.800613 -19.793777  \n",
       "8  -18.630508 -18.624786  \n",
       "9  -18.643341 -18.624786  \n",
       "10 -16.870087 -16.867554  \n",
       "11 -40.629578 -40.632172  \n",
       "12 -40.633148 -40.632172  \n",
       "13 -31.536896 -31.530136  \n",
       "14 -19.791016 -19.793777  \n",
       "15 -16.860046 -16.867554  \n",
       "16 -18.642593 -18.624786  \n",
       "17 -18.215469 -18.208801  \n",
       "18 -40.641251 -40.632172  \n",
       "19 -16.869202 -16.867554  \n",
       "\n",
       "[20 rows x 20001 columns]"
      ]
     },
     "execution_count": 6,
     "metadata": {},
     "output_type": "execute_result"
    }
   ],
   "source": [
    "temphistories_resampled"
   ]
  },
  {
   "cell_type": "markdown",
   "metadata": {},
   "source": [
    "#### An example of T(t) curve on a plot"
   ]
  },
  {
   "cell_type": "code",
   "execution_count": 7,
   "metadata": {},
   "outputs": [
    {
     "name": "stderr",
     "output_type": "stream",
     "text": [
      "findfont: Font family ['Arial'] not found. Falling back to DejaVu Sans.\n",
      "findfont: Font family ['Arial'] not found. Falling back to DejaVu Sans.\n"
     ]
    },
    {
     "data": {
      "image/png": "[encoded data removed]",
      "text/plain": [
       "<Figure size 432x288 with 1 Axes>"
      ]
     },
     "metadata": {
      "needs_background": "light"
     },
     "output_type": "display_data"
    }
   ],
   "source": [
    "plt.figure(0)\n",
    "plt.plot(temphistories_resampled.values[5,:20000],'b', linewidth=0.8)\n",
    "plt.ylabel('Temperature (C)')\n",
    "plt.xlabel('Time (kyr)')\n",
    "plt.grid(True)"
   ]
  },
  {
   "cell_type": "markdown",
   "metadata": {},
   "source": [
    "## 3. Calculating temperature profiles in a loop"
   ]
  },
  {
   "cell_type": "code",
   "execution_count": 8,
   "metadata": {},
   "outputs": [
    {
     "name": "stderr",
     "output_type": "stream",
     "text": [
      "distributed.scheduler - INFO - Register tcp://10.32.104.7:42105\n",
      "distributed.scheduler - INFO - Starting worker compute stream, tcp://10.32.104.7:42105\n",
      "distributed.core - INFO - Starting established connection\n",
      "distributed.scheduler - INFO - Register tcp://10.32.39.4:33749\n",
      "distributed.scheduler - INFO - Starting worker compute stream, tcp://10.32.39.4:33749\n",
      "distributed.core - INFO - Starting established connection\n",
      "distributed.scheduler - INFO - Register tcp://10.32.39.5:34107\n",
      "distributed.scheduler - INFO - Starting worker compute stream, tcp://10.32.39.5:34107\n",
      "distributed.core - INFO - Starting established connection\n",
      "distributed.scheduler - INFO - Register tcp://10.32.51.5:38117\n",
      "distributed.scheduler - INFO - Starting worker compute stream, tcp://10.32.51.5:38117\n",
      "distributed.core - INFO - Starting established connection\n",
      "distributed.scheduler - INFO - Register tcp://10.32.50.5:36677\n",
      "distributed.scheduler - INFO - Starting worker compute stream, tcp://10.32.50.5:36677\n",
      "distributed.core - INFO - Starting established connection\n",
      "distributed.scheduler - INFO - Register tcp://10.32.38.7:38289\n",
      "distributed.scheduler - INFO - Starting worker compute stream, tcp://10.32.38.7:38289\n",
      "distributed.core - INFO - Starting established connection\n",
      "distributed.scheduler - INFO - Register tcp://10.32.38.6:36771\n",
      "distributed.scheduler - INFO - Starting worker compute stream, tcp://10.32.38.6:36771\n",
      "distributed.core - INFO - Starting established connection\n",
      "distributed.scheduler - INFO - Register tcp://10.32.37.6:36331\n",
      "distributed.scheduler - INFO - Starting worker compute stream, tcp://10.32.37.6:36331\n",
      "distributed.core - INFO - Starting established connection\n",
      "distributed.scheduler - INFO - Register tcp://10.32.47.6:35985\n",
      "distributed.scheduler - INFO - Starting worker compute stream, tcp://10.32.47.6:35985\n",
      "distributed.core - INFO - Starting established connection\n",
      "distributed.scheduler - INFO - Register tcp://10.32.37.7:39705\n",
      "distributed.scheduler - INFO - Starting worker compute stream, tcp://10.32.37.7:39705\n",
      "distributed.core - INFO - Starting established connection\n",
      "distributed.scheduler - INFO - Register tcp://10.32.60.7:36289\n",
      "distributed.scheduler - INFO - Starting worker compute stream, tcp://10.32.60.7:36289\n",
      "distributed.core - INFO - Starting established connection\n",
      "distributed.scheduler - INFO - Register tcp://10.32.13.5:34241\n",
      "distributed.scheduler - INFO - Starting worker compute stream, tcp://10.32.13.5:34241\n",
      "distributed.core - INFO - Starting established connection\n",
      "distributed.scheduler - INFO - Register tcp://10.32.118.5:38139\n",
      "distributed.scheduler - INFO - Starting worker compute stream, tcp://10.32.118.5:38139\n",
      "distributed.core - INFO - Starting established connection\n",
      "distributed.scheduler - INFO - Register tcp://10.32.13.6:41899\n",
      "distributed.scheduler - INFO - Starting worker compute stream, tcp://10.32.13.6:41899\n",
      "distributed.core - INFO - Starting established connection\n",
      "distributed.scheduler - INFO - Register tcp://10.32.60.6:36489\n",
      "distributed.scheduler - INFO - Starting worker compute stream, tcp://10.32.60.6:36489\n",
      "distributed.core - INFO - Starting established connection\n",
      "distributed.scheduler - INFO - Register tcp://10.32.118.6:45117\n",
      "distributed.scheduler - INFO - Starting worker compute stream, tcp://10.32.118.6:45117\n",
      "distributed.core - INFO - Starting established connection\n",
      "distributed.scheduler - INFO - Register tcp://10.32.47.7:44547\n",
      "distributed.scheduler - INFO - Starting worker compute stream, tcp://10.32.47.7:44547\n",
      "distributed.core - INFO - Starting established connection\n",
      "distributed.scheduler - INFO - Register tcp://10.32.48.6:34967\n",
      "distributed.scheduler - INFO - Starting worker compute stream, tcp://10.32.48.6:34967\n",
      "distributed.core - INFO - Starting established connection\n",
      "distributed.scheduler - INFO - Register tcp://10.32.36.7:38781\n",
      "distributed.scheduler - INFO - Starting worker compute stream, tcp://10.32.36.7:38781\n",
      "distributed.core - INFO - Starting established connection\n",
      "distributed.scheduler - INFO - Register tcp://10.32.36.8:35955\n",
      "distributed.scheduler - INFO - Starting worker compute stream, tcp://10.32.36.8:35955\n",
      "distributed.core - INFO - Starting established connection\n"
     ]
    },
    {
     "name": "stdout",
     "output_type": "stream",
     "text": [
      "Completed in 35.1590 seconds\n"
     ]
    }
   ],
   "source": [
    "tic = time.perf_counter()\n",
    "\n",
    "for TT in range(0,len(temphistories_resampled.values)):\n",
    "\n",
    "    Ts_surf_steady = temphistories_resampled.values[TT,0] # Taking the first value of the imported Monte-Carlo surface temperature vectors\n",
    "    Ts = -z*0 + Ts_surf_steady\n",
    "\n",
    "    ## Steady state temperature profile calculation for ice-shelf setting\n",
    "    \n",
    "    for i in range(1, Lt_steady):\n",
    "\n",
    "        # Grounded ice vertical velocity profile\n",
    "\n",
    "        dws = a  # -((Hi(jj) - Hi(jj - 1)) / dt); # When thickness is variable through time\n",
    "        wzt = (1 - (((n + 2) / (n + 1)) * (1 - zi / Hi)) + (1 / (n + 1)) * np.power((1 - zi / Hi), (n + 2)))\n",
    "        ws = -dws * wzt\n",
    "\n",
    "\n",
    "        # Above ice-rock interface\n",
    "\n",
    "        Ts[l:-2] = Ts[l:-2] + dt*(alpha_i*(Ts[l+1:-1]-2*Ts[l:-2]+Ts[l-1:-3])/dz**2 - np.multiply(ws[1:-2],(Ts[l+1:-1]-Ts[l-1:-3])/(2*dz)))\n",
    "        Ts[-1] = Ts_surf_steady # Temperature forcing is constant and equals the first value of the imported Monte-Carlo surface temperature vectors\n",
    "\n",
    "        # Below ice-rock interface\n",
    "        \n",
    "        Ts[1:l] = Ts[1:l] + dt * alpha_r * (Ts[2:l+1]-2*Ts[1:l]+Ts[0:l-1])/dz**2\n",
    "        Ts[0] = Ts[1] + (G/k_r*dz)\n",
    "        \n",
    "        \n",
    "        # Recording the result into an empty matrix for comparison\n",
    "        \n",
    "        Tsteady[:,i] = Ts[:]\n",
    "        if (Tsteady[:, i] - Tsteady[:, i - 1]).all() <= 1e-6:\n",
    "            break # Stopping when steady state is reached\n",
    "        \n",
    "        \n",
    "\n",
    "    ## Perturbing steady state temperature profile calculated above with variable temperatures\n",
    "\n",
    "    for j in range(0, 20000):\n",
    "\n",
    "        # # Grounded ice vertical velocity profile\n",
    "\n",
    "        dws = a # -((Hi(jj) - Hi(jj - 1)) / dt); # When thickness is variable through time\n",
    "        wzt = (1 - (((n+2)/(n+1))*(1-zi/Hi)) + (1/(n+1))*np.power((1-zi/Hi),(n + 2)))\n",
    "        ws = -dws*wzt\n",
    "\n",
    "        \n",
    "        # Above ice-rock interface\n",
    "\n",
    "        Ts[l:-2] = Ts[l:-2] + dt*(alpha_i*(Ts[l+1:-1]-2*Ts[l:-2]+Ts[l-1:-3])/dz**2 - np.multiply(ws[1:-2],(Ts[l+1:-1]-Ts[l-1:-3])/(2*dz)))\n",
    "        Ts[-1] = temphistories_resampled.values[TT,j]  # Here is where the temperature forcing comes into play\n",
    "        Ts[-2] = Ts[-1]\n",
    "\n",
    "        # Below ice-rock interface\n",
    "        \n",
    "        Ts[1:l] = Ts[1:l] + dt * alpha_r * (Ts[2:l+1]-2*Ts[1:l]+Ts[0:l-1])/dz**2\n",
    "        Ts[0] = Ts[1] + (G / k_r * dz)\n",
    "      \n",
    "        Tfinal_varT[:,TT] = Ts # Recording temperature profile into the final matrix\n",
    "        \n",
    "toc = time.perf_counter()\n",
    "print(f\"Completed in {toc - tic:0.4f} seconds\")"
   ]
  },
  {
   "cell_type": "markdown",
   "metadata": {},
   "source": [
    "#### Seeing the resulting T(z) on a figure"
   ]
  },
  {
   "cell_type": "code",
   "execution_count": 9,
   "metadata": {},
   "outputs": [
    {
     "data": {
      "text/plain": [
       "Text(0.5, 1.0, 'Time: 20000 years')"
      ]
     },
     "execution_count": 9,
     "metadata": {},
     "output_type": "execute_result"
    },
    {
     "data": {
      "image/png": "[encoded data removed]",
      "text/plain": [
       "<Figure size 432x288 with 1 Axes>"
      ]
     },
     "metadata": {
      "needs_background": "light"
     },
     "output_type": "display_data"
    }
   ],
   "source": [
    "plt.figure(1)\n",
    "plt.plot(Tfinal_varT[:,:-1],z,'r--', linewidth=0.8)\n",
    "plt.axis([-50, 50, -Hr, Hi])\n",
    "plt.ylabel('Distance (m)')\n",
    "plt.xlabel('Temperature (C)')\n",
    "plt.grid(True)\n",
    "plt.title(\"Time: \" + str(20000) + \" years\")"
   ]
  },
  {
   "cell_type": "markdown",
   "metadata": {},
   "source": [
    "## 4. Creating a function for temperature calculation (based on 3) to be used in dask"
   ]
  },
  {
   "cell_type": "code",
   "execution_count": 10,
   "metadata": {},
   "outputs": [],
   "source": [
    "def tempcalc(temphistories_resampled):\n",
    "    \n",
    "    Ts_surf_steady = temphistories_resampled[0]\n",
    "    Ts = -z*0 + Ts_surf_steady\n",
    "        \n",
    "    ## Steady state temperature profile calculation for ice-shelf setting\n",
    "    \n",
    "    for i in range(1, Lt_steady):\n",
    "\n",
    "        # Grounded ice vertical velocity profile\n",
    "\n",
    "        dws = a  # -((Hi(jj) - Hi(jj - 1)) / dt); # When thickness is variable through time\n",
    "        wzt = (1 - (((n + 2) / (n + 1)) * (1 - zi / Hi)) + (1 / (n + 1)) * np.power((1 - zi / Hi), (n + 2)))\n",
    "        ws = -dws * wzt\n",
    "\n",
    "        # Ice shelf vertical velocity profile\n",
    "        # w = -np.linspace(0,a,Lzi)\n",
    "\n",
    "        # Above ice-rock interface\n",
    "\n",
    "        Ts[l:-2] = Ts[l:-2] + dt*(alpha_i*(Ts[l+1:-1]-2*Ts[l:-2]+Ts[l-1:-3])/dz**2 - np.multiply(ws[1:-2],(Ts[l+1:-1]-Ts[l-1:-3])/(2*dz)))\n",
    "        Ts[-1] = temphistories_resampled[0]\n",
    "\n",
    "        # Below ice-rock interface\n",
    "        Ts[1:l] = Ts[1:l] + dt * alpha_r * (Ts[2:l+1]-2*Ts[1:l]+Ts[0:l-1])/dz**2\n",
    "        Ts[0] = Ts[1] + (G/k_r*dz)\n",
    "\n",
    "        Tsteady[:,i] = Ts[:]\n",
    "\n",
    "        deltaT = Tsteady[:,i]-Tsteady[:,i-1]\n",
    "        deltaTsum = abs(sum(deltaT))\n",
    "\n",
    "        if (Tsteady[:, i] - Tsteady[:, i - 1]).all() <= 1e-6:\n",
    "            break # Stopping when steady state is reached\n",
    "\n",
    "\n",
    "    ## Perturbing steady state with grounding event\n",
    "\n",
    "    for j in range(0, 20000):\n",
    "\n",
    "        # # Grounded ice vertical velocity profile\n",
    "\n",
    "        dws = a # -((Hi(jj) - Hi(jj - 1)) / dt); # When thickness is variable through time\n",
    "        wzt = (1 - (((n+2)/(n+1))*(1-zi/Hi)) + (1/(n+1))*np.power((1-zi/Hi),(n + 2)))\n",
    "        ws = -dws*wzt\n",
    "\n",
    "        # Above ice-rock interface\n",
    "\n",
    "        Ts[l:-2] = Ts[l:-2] + dt*(alpha_i*(Ts[l+1:-1]-2*Ts[l:-2]+Ts[l-1:-3])/dz**2 - np.multiply(ws[1:-2],(Ts[l+1:-1]-Ts[l-1:-3])/(2*dz)))\n",
    "        Ts[-1] = temphistories_resampled[j]\n",
    "        Ts[-2] = Ts[-1]\n",
    "\n",
    "        # Below ice-rock interface\n",
    "        Ts[1:l] = Ts[1:l] + dt * alpha_r * (Ts[2:l+1]-2*Ts[1:l]+Ts[0:l-1])/dz**2\n",
    "        Ts[0] = Ts[1] + (G / k_r * dz)\n",
    "\n",
    "    return Ts"
   ]
  },
  {
   "cell_type": "markdown",
   "metadata": {},
   "source": [
    "#### Trying out the function on a sample T(t) row"
   ]
  },
  {
   "cell_type": "code",
   "execution_count": 11,
   "metadata": {},
   "outputs": [
    {
     "name": "stdout",
     "output_type": "stream",
     "text": [
      "Completed in 1.4625 seconds\n"
     ]
    }
   ],
   "source": [
    "tic = time.perf_counter()\n",
    "result = tempcalc(temphistories_resampled.values[2,:])\n",
    "toc = time.perf_counter()\n",
    "print(f\"Completed in {toc - tic:0.4f} seconds\")"
   ]
  },
  {
   "cell_type": "markdown",
   "metadata": {},
   "source": [
    "#### Comparing the resulting T(t) with the same calculation within a loop made in 3."
   ]
  },
  {
   "cell_type": "code",
   "execution_count": 12,
   "metadata": {},
   "outputs": [
    {
     "data": {
      "image/png": "[encoded data removed]",
      "text/plain": [
       "<Figure size 432x288 with 1 Axes>"
      ]
     },
     "metadata": {
      "needs_background": "light"
     },
     "output_type": "display_data"
    }
   ],
   "source": [
    "plt.figure(1)\n",
    "plt.plot(result,z,'r--',Tfinal_varT[:,2],z, linewidth=0.8)\n",
    "plt.axis([-50, 50, -Hr, Hi])\n",
    "plt.ylabel('Distance (m)')\n",
    "plt.xlabel('Temperature (C)')\n",
    "plt.grid(True)"
   ]
  },
  {
   "cell_type": "markdown",
   "metadata": {},
   "source": [
    "### Trying out calculation of temperature profiles in bulk using function"
   ]
  },
  {
   "cell_type": "code",
   "execution_count": 13,
   "metadata": {},
   "outputs": [
    {
     "name": "stdout",
     "output_type": "stream",
     "text": [
      "CPU times: user 33.5 s, sys: 6.92 s, total: 40.4 s\n",
      "Wall time: 31.8 s\n"
     ]
    }
   ],
   "source": [
    "%%time\n",
    "\n",
    "Tfinal_varT_calc_func = []\n",
    "\n",
    "for parameters in temphistories_resampled.values[:len(temphistories_resampled)]:\n",
    "    resulttemp = tempcalc(parameters)\n",
    "    Tfinal_varT_calc_func.append(resulttemp)\n",
    "    \n",
    "Tfinal_varT_calc_func = np.array(Tfinal_varT_calc_func)\n",
    "Tfinal_varT_calc_func = np.transpose(Tfinal_varT_calc_func)"
   ]
  },
  {
   "cell_type": "markdown",
   "metadata": {},
   "source": [
    "#### Check that results are the same as those calculated in 3."
   ]
  },
  {
   "cell_type": "code",
   "execution_count": 14,
   "metadata": {},
   "outputs": [
    {
     "data": {
      "text/plain": [
       "array([[ True,  True,  True, ...,  True,  True,  True],\n",
       "       [ True,  True,  True, ...,  True,  True,  True],\n",
       "       [ True,  True,  True, ...,  True,  True,  True],\n",
       "       ...,\n",
       "       [ True,  True,  True, ...,  True,  True,  True],\n",
       "       [ True,  True,  True, ...,  True,  True,  True],\n",
       "       [ True,  True,  True, ...,  True,  True,  True]])"
      ]
     },
     "execution_count": 14,
     "metadata": {},
     "output_type": "execute_result"
    }
   ],
   "source": [
    "Tfinal_varT_calc_func == Tfinal_varT"
   ]
  },
  {
   "cell_type": "code",
   "execution_count": 15,
   "metadata": {},
   "outputs": [
    {
     "data": {
      "image/png": "[encoded data removed]",
      "text/plain": [
       "<Figure size 432x288 with 1 Axes>"
      ]
     },
     "metadata": {
      "needs_background": "light"
     },
     "output_type": "display_data"
    }
   ],
   "source": [
    "plt.figure(1)\n",
    "plt.plot(Tfinal_varT_calc_func[:,:-1],z,'b--',Tfinal_varT[:,:-1],z,'r--',linewidth=0.8)\n",
    "plt.axis([-50, 50, -Hr, Hi])\n",
    "plt.ylabel('Distance (m)')\n",
    "plt.xlabel('Temperature (C)')\n",
    "plt.grid(True)"
   ]
  },
  {
   "cell_type": "markdown",
   "metadata": {},
   "source": [
    "## 5. Implementing dask as in the following tutorial: https://examples.dask.org/applications/embarrassingly-parallel.html"
   ]
  },
  {
   "cell_type": "markdown",
   "metadata": {},
   "source": [
    "### Defining computation calling function"
   ]
  },
  {
   "cell_type": "code",
   "execution_count": 16,
   "metadata": {},
   "outputs": [],
   "source": [
    "import time\n",
    "import random\n",
    "\n",
    "def costly_simulation(list_param):\n",
    "    time.sleep(random.random())\n",
    "    return sum(list_param)"
   ]
  },
  {
   "cell_type": "code",
   "execution_count": 17,
   "metadata": {},
   "outputs": [],
   "source": [
    "# %time costly_simulation([1, 2, 3, 4])"
   ]
  },
  {
   "cell_type": "code",
   "execution_count": 18,
   "metadata": {},
   "outputs": [
    {
     "data": {
      "text/html": [
       "<div>\n",
       "<style scoped>\n",
       "    .dataframe tbody tr th:only-of-type {\n",
       "        vertical-align: middle;\n",
       "    }\n",
       "\n",
       "    .dataframe tbody tr th {\n",
       "        vertical-align: top;\n",
       "    }\n",
       "\n",
       "    .dataframe thead th {\n",
       "        text-align: right;\n",
       "    }\n",
       "</style>\n",
       "<table border=\"1\" class=\"dataframe\">\n",
       "  <thead>\n",
       "    <tr style=\"text-align: right;\">\n",
       "      <th></th>\n",
       "      <th>0</th>\n",
       "      <th>1</th>\n",
       "      <th>2</th>\n",
       "      <th>3</th>\n",
       "      <th>4</th>\n",
       "      <th>5</th>\n",
       "      <th>6</th>\n",
       "      <th>7</th>\n",
       "      <th>8</th>\n",
       "      <th>9</th>\n",
       "      <th>10</th>\n",
       "      <th>11</th>\n",
       "      <th>12</th>\n",
       "      <th>13</th>\n",
       "      <th>14</th>\n",
       "      <th>15</th>\n",
       "      <th>16</th>\n",
       "      <th>17</th>\n",
       "      <th>18</th>\n",
       "      <th>19</th>\n",
       "    </tr>\n",
       "  </thead>\n",
       "  <tbody>\n",
       "    <tr>\n",
       "      <th>0</th>\n",
       "      <td>0.156887</td>\n",
       "      <td>0.002947</td>\n",
       "      <td>0.242231</td>\n",
       "      <td>0.800707</td>\n",
       "      <td>0.468042</td>\n",
       "      <td>0.695987</td>\n",
       "      <td>0.165311</td>\n",
       "      <td>0.577144</td>\n",
       "      <td>0.674832</td>\n",
       "      <td>0.108380</td>\n",
       "      <td>0.993464</td>\n",
       "      <td>0.995563</td>\n",
       "      <td>0.914806</td>\n",
       "      <td>0.157568</td>\n",
       "      <td>0.934367</td>\n",
       "      <td>0.107557</td>\n",
       "      <td>0.298330</td>\n",
       "      <td>0.197815</td>\n",
       "      <td>0.066030</td>\n",
       "      <td>0.351044</td>\n",
       "    </tr>\n",
       "    <tr>\n",
       "      <th>1</th>\n",
       "      <td>0.708413</td>\n",
       "      <td>0.188957</td>\n",
       "      <td>0.960127</td>\n",
       "      <td>0.554808</td>\n",
       "      <td>0.320916</td>\n",
       "      <td>0.583030</td>\n",
       "      <td>0.491313</td>\n",
       "      <td>0.748928</td>\n",
       "      <td>0.608581</td>\n",
       "      <td>0.854179</td>\n",
       "      <td>0.114797</td>\n",
       "      <td>0.915602</td>\n",
       "      <td>0.712953</td>\n",
       "      <td>0.968868</td>\n",
       "      <td>0.740810</td>\n",
       "      <td>0.417012</td>\n",
       "      <td>0.517266</td>\n",
       "      <td>0.537331</td>\n",
       "      <td>0.902017</td>\n",
       "      <td>0.656155</td>\n",
       "    </tr>\n",
       "    <tr>\n",
       "      <th>2</th>\n",
       "      <td>0.684938</td>\n",
       "      <td>0.237749</td>\n",
       "      <td>0.442125</td>\n",
       "      <td>0.569036</td>\n",
       "      <td>0.126645</td>\n",
       "      <td>0.649296</td>\n",
       "      <td>0.435687</td>\n",
       "      <td>0.514510</td>\n",
       "      <td>0.278908</td>\n",
       "      <td>0.914469</td>\n",
       "      <td>0.852022</td>\n",
       "      <td>0.697860</td>\n",
       "      <td>0.742293</td>\n",
       "      <td>0.650700</td>\n",
       "      <td>0.740773</td>\n",
       "      <td>0.831257</td>\n",
       "      <td>0.693241</td>\n",
       "      <td>0.468159</td>\n",
       "      <td>0.756675</td>\n",
       "      <td>0.137860</td>\n",
       "    </tr>\n",
       "    <tr>\n",
       "      <th>3</th>\n",
       "      <td>0.830165</td>\n",
       "      <td>0.877369</td>\n",
       "      <td>0.436407</td>\n",
       "      <td>0.364685</td>\n",
       "      <td>0.467171</td>\n",
       "      <td>0.026793</td>\n",
       "      <td>0.809099</td>\n",
       "      <td>0.693957</td>\n",
       "      <td>0.499727</td>\n",
       "      <td>0.780957</td>\n",
       "      <td>0.346996</td>\n",
       "      <td>0.795053</td>\n",
       "      <td>0.678865</td>\n",
       "      <td>0.115502</td>\n",
       "      <td>0.290279</td>\n",
       "      <td>0.591792</td>\n",
       "      <td>0.898713</td>\n",
       "      <td>0.808852</td>\n",
       "      <td>0.472403</td>\n",
       "      <td>0.258235</td>\n",
       "    </tr>\n",
       "    <tr>\n",
       "      <th>4</th>\n",
       "      <td>0.787613</td>\n",
       "      <td>0.079071</td>\n",
       "      <td>0.843956</td>\n",
       "      <td>0.088888</td>\n",
       "      <td>0.554863</td>\n",
       "      <td>0.769076</td>\n",
       "      <td>0.134231</td>\n",
       "      <td>0.787534</td>\n",
       "      <td>0.952997</td>\n",
       "      <td>0.037004</td>\n",
       "      <td>0.663803</td>\n",
       "      <td>0.726320</td>\n",
       "      <td>0.320154</td>\n",
       "      <td>0.188374</td>\n",
       "      <td>0.412217</td>\n",
       "      <td>0.760495</td>\n",
       "      <td>0.062838</td>\n",
       "      <td>0.503502</td>\n",
       "      <td>0.719298</td>\n",
       "      <td>0.344563</td>\n",
       "    </tr>\n",
       "  </tbody>\n",
       "</table>\n",
       "</div>"
      ],
      "text/plain": [
       "          0         1         2         3         4         5         6  \\\n",
       "0  0.156887  0.002947  0.242231  0.800707  0.468042  0.695987  0.165311   \n",
       "1  0.708413  0.188957  0.960127  0.554808  0.320916  0.583030  0.491313   \n",
       "2  0.684938  0.237749  0.442125  0.569036  0.126645  0.649296  0.435687   \n",
       "3  0.830165  0.877369  0.436407  0.364685  0.467171  0.026793  0.809099   \n",
       "4  0.787613  0.079071  0.843956  0.088888  0.554863  0.769076  0.134231   \n",
       "\n",
       "          7         8         9        10        11        12        13  \\\n",
       "0  0.577144  0.674832  0.108380  0.993464  0.995563  0.914806  0.157568   \n",
       "1  0.748928  0.608581  0.854179  0.114797  0.915602  0.712953  0.968868   \n",
       "2  0.514510  0.278908  0.914469  0.852022  0.697860  0.742293  0.650700   \n",
       "3  0.693957  0.499727  0.780957  0.346996  0.795053  0.678865  0.115502   \n",
       "4  0.787534  0.952997  0.037004  0.663803  0.726320  0.320154  0.188374   \n",
       "\n",
       "         14        15        16        17        18        19  \n",
       "0  0.934367  0.107557  0.298330  0.197815  0.066030  0.351044  \n",
       "1  0.740810  0.417012  0.517266  0.537331  0.902017  0.656155  \n",
       "2  0.740773  0.831257  0.693241  0.468159  0.756675  0.137860  \n",
       "3  0.290279  0.591792  0.898713  0.808852  0.472403  0.258235  \n",
       "4  0.412217  0.760495  0.062838  0.503502  0.719298  0.344563  "
      ]
     },
     "execution_count": 18,
     "metadata": {},
     "output_type": "execute_result"
    }
   ],
   "source": [
    "import pandas as pd\n",
    "import numpy as np\n",
    "\n",
    "input_params = pd.DataFrame(np.random.random(size=(20000, 20)))\n",
    "#                             ,columns=['param_a', 'param_b', 'param_c', 'param_d'])\n",
    "input_params.head()"
   ]
  },
  {
   "cell_type": "markdown",
   "metadata": {},
   "source": [
    "### Trying the function in a loop and timing it"
   ]
  },
  {
   "cell_type": "code",
   "execution_count": 19,
   "metadata": {},
   "outputs": [
    {
     "name": "stdout",
     "output_type": "stream",
     "text": [
      "CPU times: user 125 ms, sys: 16.4 ms, total: 141 ms\n",
      "Wall time: 3.26 s\n"
     ]
    },
    {
     "data": {
      "text/plain": [
       "[8.909013304153174,\n",
       " 12.502061103477113,\n",
       " 11.424203544560141,\n",
       " 11.043020810834921,\n",
       " 9.736797401888875]"
      ]
     },
     "execution_count": 19,
     "metadata": {},
     "output_type": "execute_result"
    }
   ],
   "source": [
    "%%time\n",
    "\n",
    "results = []\n",
    "\n",
    "for parameters in input_params.values[:10]:\n",
    "    result = costly_simulation(parameters)\n",
    "    results.append(result)\n",
    "results[:5]"
   ]
  },
  {
   "cell_type": "markdown",
   "metadata": {},
   "source": [
    "### Using Dask Delayed to run in parallel and timing it"
   ]
  },
  {
   "cell_type": "code",
   "execution_count": 20,
   "metadata": {},
   "outputs": [
    {
     "name": "stdout",
     "output_type": "stream",
     "text": [
      "CPU times: user 82.8 ms, sys: 11.4 ms, total: 94.2 ms\n",
      "Wall time: 1.03 s\n"
     ]
    },
    {
     "data": {
      "text/plain": [
       "(8.909013304153174,\n",
       " 12.502061103477113,\n",
       " 11.424203544560141,\n",
       " 11.043020810834921,\n",
       " 9.736797401888875)"
      ]
     },
     "execution_count": 20,
     "metadata": {},
     "output_type": "execute_result"
    }
   ],
   "source": [
    "%%time\n",
    "\n",
    "lazy_results = []\n",
    "\n",
    "for parameters in input_params.values[:10]:\n",
    "    lazy_result = dask.delayed(costly_simulation)(parameters)\n",
    "    lazy_results.append(lazy_result)\n",
    "\n",
    "futures = dask.persist(*lazy_results)  # trigger computation in the background\n",
    "\n",
    "results = dask.compute(*futures)\n",
    "results[:5]"
   ]
  },
  {
   "cell_type": "markdown",
   "metadata": {},
   "source": [
    "## 6. Using Dask procedures identical to 5. for our temperature calculation function"
   ]
  },
  {
   "cell_type": "code",
   "execution_count": 21,
   "metadata": {},
   "outputs": [],
   "source": [
    "#### Repeating our calculation of temperature profiles in bulk using function for co"
   ]
  },
  {
   "cell_type": "code",
   "execution_count": 22,
   "metadata": {},
   "outputs": [
    {
     "name": "stdout",
     "output_type": "stream",
     "text": [
      "CPU times: user 30.4 s, sys: 6.81 s, total: 37.2 s\n",
      "Wall time: 29.2 s\n"
     ]
    }
   ],
   "source": [
    "%%time\n",
    "\n",
    "Tfinal_varT_calc_func = []\n",
    "\n",
    "for parameters in temphistories_resampled.values:\n",
    "    resulttemp = tempcalc(parameters)\n",
    "    Tfinal_varT_calc_func.append(resulttemp)\n",
    "    \n",
    "Tfinal_varT_calc_func = np.array(Tfinal_varT_calc_func)\n",
    "Tfinal_varT_calc_func = np.transpose(Tfinal_varT_calc_func)"
   ]
  },
  {
   "cell_type": "code",
   "execution_count": 23,
   "metadata": {},
   "outputs": [
    {
     "name": "stdout",
     "output_type": "stream",
     "text": [
      "CPU times: user 1.37 ms, sys: 41 µs, total: 1.41 ms\n",
      "Wall time: 982 µs\n"
     ]
    }
   ],
   "source": [
    "%%time\n",
    "\n",
    "Tfinal_varT_calc_func_dask = []\n",
    "\n",
    "for parameters in temphistories_resampled.values[:4]:\n",
    "    resulttempdask = dask.delayed(tempcalc)(parameters)\n",
    "    Tfinal_varT_calc_func_dask.append(resulttempdask)"
   ]
  },
  {
   "cell_type": "code",
   "execution_count": 24,
   "metadata": {},
   "outputs": [
    {
     "data": {
      "text/plain": [
       "[Delayed('tempcalc-2d40b356-53d3-4376-b596-bc4b9ac8384e'),\n",
       " Delayed('tempcalc-4e4ccd60-663f-4aae-b47f-9594f4acdc67'),\n",
       " Delayed('tempcalc-236fb726-16ff-4d81-9ac6-8a60187353d9'),\n",
       " Delayed('tempcalc-f7162db2-bd2c-4fad-ba0b-b59fecf1cfb0')]"
      ]
     },
     "execution_count": 24,
     "metadata": {},
     "output_type": "execute_result"
    }
   ],
   "source": [
    "Tfinal_varT_calc_func_dask"
   ]
  },
  {
   "cell_type": "markdown",
   "metadata": {},
   "source": [
    "### The code above worked ok until we try to implement dask.persist and/or .compute below, which yields the kernel error:"
   ]
  },
  {
   "cell_type": "code",
   "execution_count": 25,
   "metadata": {},
   "outputs": [],
   "source": [
    "# %%time\n",
    "# futures_temp = dask.persist(*Tfinal_varT_calc_func_dask)"
   ]
  },
  {
   "cell_type": "code",
   "execution_count": null,
   "metadata": {},
   "outputs": [],
   "source": [
    "results_temp = dask.compute(*Tfinal_varT_calc_func_dask)"
   ]
  }
 ],
 "metadata": {
  "kernelspec": {
   "display_name": "Python 3",
   "language": "python",
   "name": "python3"
  },
  "language_info": {
   "codemirror_mode": {
    "name": "ipython",
    "version": 3
   },
   "file_extension": ".py",
   "mimetype": "text/x-python",
   "name": "python",
   "nbconvert_exporter": "python",
   "pygments_lexer": "ipython3",
   "version": "3.7.3"
  }
 },
 "nbformat": 4,
 "nbformat_minor": 4
}
